{
 "cells": [
  {
   "cell_type": "markdown",
   "id": "ec49e356",
   "metadata": {},
   "source": [
    "## OYO Business Analyst Interview Questions:\n",
    "### Python Questions\n",
    "1. Write a Python function to calculate the revenue generated per city from a dataset of hotel bookings stored in a CSV file. Each row contains columns: city, room_price, and number_of_nights.\n",
    "2. Write a Python program to find the city with the highest growth in bookings month-over-month using a dataset with columns: city, booking_date, and number_of_bookings.\n",
    "3. Create a Python script to calculate the percentage of cancellations for each property from a dataset containing columns: property_id, booking_status (confirmed/cancelled).\n",
    "4. Write a Python function to identify properties with unusually high cancellation rates using the Z-score method on the cancellation percentage.\n",
    "5. Write a Python program to plot a bar chart showing the top 5 cities by total revenue using Matplotlib or Seaborn.\n"
   ]
  },
  {
   "cell_type": "code",
   "execution_count": 1,
   "id": "ae8e42fe",
   "metadata": {},
   "outputs": [],
   "source": [
    "import pandas as pd\n",
    "import numpy as np"
   ]
  },
  {
   "cell_type": "code",
   "execution_count": 3,
   "id": "6665af59",
   "metadata": {},
   "outputs": [],
   "source": [
    "#Import dataset\n",
    "hotelbooking = pd.read_csv('./Dataset/hotel_bookings.csv')\n",
    "bookinggrowth = pd.read_csv('./Dataset/booking_growth.csv')\n",
    "cancellations = pd.read_csv('./Dataset/cancellations.csv')"
   ]
  },
  {
   "cell_type": "code",
   "execution_count": 4,
   "id": "7c31ad3a",
   "metadata": {},
   "outputs": [
    {
     "data": {
      "text/html": [
       "<div>\n",
       "<style scoped>\n",
       "    .dataframe tbody tr th:only-of-type {\n",
       "        vertical-align: middle;\n",
       "    }\n",
       "\n",
       "    .dataframe tbody tr th {\n",
       "        vertical-align: top;\n",
       "    }\n",
       "\n",
       "    .dataframe thead th {\n",
       "        text-align: right;\n",
       "    }\n",
       "</style>\n",
       "<table border=\"1\" class=\"dataframe\">\n",
       "  <thead>\n",
       "    <tr style=\"text-align: right;\">\n",
       "      <th></th>\n",
       "      <th>city</th>\n",
       "      <th>room_price</th>\n",
       "      <th>number_of_nights</th>\n",
       "    </tr>\n",
       "  </thead>\n",
       "  <tbody>\n",
       "    <tr>\n",
       "      <th>0</th>\n",
       "      <td>Houston</td>\n",
       "      <td>147</td>\n",
       "      <td>3</td>\n",
       "    </tr>\n",
       "    <tr>\n",
       "      <th>1</th>\n",
       "      <td>Miami</td>\n",
       "      <td>247</td>\n",
       "      <td>7</td>\n",
       "    </tr>\n",
       "    <tr>\n",
       "      <th>2</th>\n",
       "      <td>Chicago</td>\n",
       "      <td>444</td>\n",
       "      <td>2</td>\n",
       "    </tr>\n",
       "    <tr>\n",
       "      <th>3</th>\n",
       "      <td>Miami</td>\n",
       "      <td>289</td>\n",
       "      <td>2</td>\n",
       "    </tr>\n",
       "    <tr>\n",
       "      <th>4</th>\n",
       "      <td>Miami</td>\n",
       "      <td>193</td>\n",
       "      <td>7</td>\n",
       "    </tr>\n",
       "  </tbody>\n",
       "</table>\n",
       "</div>"
      ],
      "text/plain": [
       "      city  room_price  number_of_nights\n",
       "0  Houston         147                 3\n",
       "1    Miami         247                 7\n",
       "2  Chicago         444                 2\n",
       "3    Miami         289                 2\n",
       "4    Miami         193                 7"
      ]
     },
     "execution_count": 4,
     "metadata": {},
     "output_type": "execute_result"
    }
   ],
   "source": [
    "#Solving question1\n",
    "hotelbooking.head()"
   ]
  },
  {
   "cell_type": "code",
   "execution_count": 6,
   "id": "20c53372",
   "metadata": {},
   "outputs": [
    {
     "data": {
      "text/html": [
       "<div>\n",
       "<style scoped>\n",
       "    .dataframe tbody tr th:only-of-type {\n",
       "        vertical-align: middle;\n",
       "    }\n",
       "\n",
       "    .dataframe tbody tr th {\n",
       "        vertical-align: top;\n",
       "    }\n",
       "\n",
       "    .dataframe thead th {\n",
       "        text-align: right;\n",
       "    }\n",
       "</style>\n",
       "<table border=\"1\" class=\"dataframe\">\n",
       "  <thead>\n",
       "    <tr style=\"text-align: right;\">\n",
       "      <th></th>\n",
       "      <th>city</th>\n",
       "      <th>room_price</th>\n",
       "      <th>number_of_nights</th>\n",
       "      <th>total_cost</th>\n",
       "    </tr>\n",
       "  </thead>\n",
       "  <tbody>\n",
       "    <tr>\n",
       "      <th>0</th>\n",
       "      <td>Houston</td>\n",
       "      <td>147</td>\n",
       "      <td>3</td>\n",
       "      <td>441</td>\n",
       "    </tr>\n",
       "    <tr>\n",
       "      <th>1</th>\n",
       "      <td>Miami</td>\n",
       "      <td>247</td>\n",
       "      <td>7</td>\n",
       "      <td>1729</td>\n",
       "    </tr>\n",
       "    <tr>\n",
       "      <th>2</th>\n",
       "      <td>Chicago</td>\n",
       "      <td>444</td>\n",
       "      <td>2</td>\n",
       "      <td>888</td>\n",
       "    </tr>\n",
       "    <tr>\n",
       "      <th>3</th>\n",
       "      <td>Miami</td>\n",
       "      <td>289</td>\n",
       "      <td>2</td>\n",
       "      <td>578</td>\n",
       "    </tr>\n",
       "    <tr>\n",
       "      <th>4</th>\n",
       "      <td>Miami</td>\n",
       "      <td>193</td>\n",
       "      <td>7</td>\n",
       "      <td>1351</td>\n",
       "    </tr>\n",
       "  </tbody>\n",
       "</table>\n",
       "</div>"
      ],
      "text/plain": [
       "      city  room_price  number_of_nights  total_cost\n",
       "0  Houston         147                 3         441\n",
       "1    Miami         247                 7        1729\n",
       "2  Chicago         444                 2         888\n",
       "3    Miami         289                 2         578\n",
       "4    Miami         193                 7        1351"
      ]
     },
     "execution_count": 6,
     "metadata": {},
     "output_type": "execute_result"
    }
   ],
   "source": [
    "hotelbooking['total_cost'] = hotelbooking['room_price'] * hotelbooking['number_of_nights']\n",
    "hotelbooking.head()"
   ]
  },
  {
   "cell_type": "code",
   "execution_count": 9,
   "id": "5a48dea8",
   "metadata": {},
   "outputs": [
    {
     "name": "stdout",
     "output_type": "stream",
     "text": [
      "          city  total_cost\n",
      "0      Chicago       51467\n",
      "1      Houston       62625\n",
      "2  Los Angeles       43513\n",
      "3        Miami       53663\n",
      "4     New York       56076\n"
     ]
    }
   ],
   "source": [
    "result = hotelbooking.groupby('city')['total_cost'].sum().reset_index()\n",
    "print(result)"
   ]
  },
  {
   "cell_type": "code",
   "execution_count": 10,
   "id": "07a52760",
   "metadata": {},
   "outputs": [
    {
     "data": {
      "text/html": [
       "<div>\n",
       "<style scoped>\n",
       "    .dataframe tbody tr th:only-of-type {\n",
       "        vertical-align: middle;\n",
       "    }\n",
       "\n",
       "    .dataframe tbody tr th {\n",
       "        vertical-align: top;\n",
       "    }\n",
       "\n",
       "    .dataframe thead th {\n",
       "        text-align: right;\n",
       "    }\n",
       "</style>\n",
       "<table border=\"1\" class=\"dataframe\">\n",
       "  <thead>\n",
       "    <tr style=\"text-align: right;\">\n",
       "      <th></th>\n",
       "      <th>city</th>\n",
       "      <th>booking_date</th>\n",
       "      <th>number_of_bookings</th>\n",
       "    </tr>\n",
       "  </thead>\n",
       "  <tbody>\n",
       "    <tr>\n",
       "      <th>0</th>\n",
       "      <td>New York</td>\n",
       "      <td>2024-02-24</td>\n",
       "      <td>17</td>\n",
       "    </tr>\n",
       "    <tr>\n",
       "      <th>1</th>\n",
       "      <td>Miami</td>\n",
       "      <td>2024-12-24</td>\n",
       "      <td>44</td>\n",
       "    </tr>\n",
       "    <tr>\n",
       "      <th>2</th>\n",
       "      <td>Los Angeles</td>\n",
       "      <td>2024-05-10</td>\n",
       "      <td>28</td>\n",
       "    </tr>\n",
       "    <tr>\n",
       "      <th>3</th>\n",
       "      <td>Houston</td>\n",
       "      <td>2024-10-14</td>\n",
       "      <td>29</td>\n",
       "    </tr>\n",
       "    <tr>\n",
       "      <th>4</th>\n",
       "      <td>Miami</td>\n",
       "      <td>2024-09-22</td>\n",
       "      <td>21</td>\n",
       "    </tr>\n",
       "  </tbody>\n",
       "</table>\n",
       "</div>"
      ],
      "text/plain": [
       "          city booking_date  number_of_bookings\n",
       "0     New York   2024-02-24                  17\n",
       "1        Miami   2024-12-24                  44\n",
       "2  Los Angeles   2024-05-10                  28\n",
       "3      Houston   2024-10-14                  29\n",
       "4        Miami   2024-09-22                  21"
      ]
     },
     "execution_count": 10,
     "metadata": {},
     "output_type": "execute_result"
    }
   ],
   "source": [
    "#Solving Question2\n",
    "bookinggrowth.head()"
   ]
  },
  {
   "cell_type": "code",
   "execution_count": 13,
   "id": "cd445054",
   "metadata": {},
   "outputs": [
    {
     "name": "stdout",
     "output_type": "stream",
     "text": [
      "<class 'pandas.core.frame.DataFrame'>\n",
      "RangeIndex: 500 entries, 0 to 499\n",
      "Data columns (total 4 columns):\n",
      " #   Column              Non-Null Count  Dtype         \n",
      "---  ------              --------------  -----         \n",
      " 0   city                500 non-null    object        \n",
      " 1   booking_date        500 non-null    datetime64[ns]\n",
      " 2   number_of_bookings  500 non-null    int64         \n",
      " 3   year_month          500 non-null    period[M]     \n",
      "dtypes: datetime64[ns](1), int64(1), object(1), period[M](1)\n",
      "memory usage: 15.8+ KB\n"
     ]
    }
   ],
   "source": [
    "bookinggrowth['booking_date'] = pd.to_datetime(bookinggrowth['booking_date'])\n",
    "bookinggrowth.info()"
   ]
  },
  {
   "cell_type": "code",
   "execution_count": 15,
   "id": "db0448d2",
   "metadata": {},
   "outputs": [
    {
     "data": {
      "text/html": [
       "<div>\n",
       "<style scoped>\n",
       "    .dataframe tbody tr th:only-of-type {\n",
       "        vertical-align: middle;\n",
       "    }\n",
       "\n",
       "    .dataframe tbody tr th {\n",
       "        vertical-align: top;\n",
       "    }\n",
       "\n",
       "    .dataframe thead th {\n",
       "        text-align: right;\n",
       "    }\n",
       "</style>\n",
       "<table border=\"1\" class=\"dataframe\">\n",
       "  <thead>\n",
       "    <tr style=\"text-align: right;\">\n",
       "      <th></th>\n",
       "      <th>city</th>\n",
       "      <th>booking_date</th>\n",
       "      <th>number_of_bookings</th>\n",
       "      <th>year_month</th>\n",
       "    </tr>\n",
       "  </thead>\n",
       "  <tbody>\n",
       "    <tr>\n",
       "      <th>0</th>\n",
       "      <td>New York</td>\n",
       "      <td>2024-02-24</td>\n",
       "      <td>17</td>\n",
       "      <td>2024-02</td>\n",
       "    </tr>\n",
       "    <tr>\n",
       "      <th>1</th>\n",
       "      <td>Miami</td>\n",
       "      <td>2024-12-24</td>\n",
       "      <td>44</td>\n",
       "      <td>2024-12</td>\n",
       "    </tr>\n",
       "    <tr>\n",
       "      <th>2</th>\n",
       "      <td>Los Angeles</td>\n",
       "      <td>2024-05-10</td>\n",
       "      <td>28</td>\n",
       "      <td>2024-05</td>\n",
       "    </tr>\n",
       "    <tr>\n",
       "      <th>3</th>\n",
       "      <td>Houston</td>\n",
       "      <td>2024-10-14</td>\n",
       "      <td>29</td>\n",
       "      <td>2024-10</td>\n",
       "    </tr>\n",
       "    <tr>\n",
       "      <th>4</th>\n",
       "      <td>Miami</td>\n",
       "      <td>2024-09-22</td>\n",
       "      <td>21</td>\n",
       "      <td>2024-09</td>\n",
       "    </tr>\n",
       "  </tbody>\n",
       "</table>\n",
       "</div>"
      ],
      "text/plain": [
       "          city booking_date  number_of_bookings year_month\n",
       "0     New York   2024-02-24                  17    2024-02\n",
       "1        Miami   2024-12-24                  44    2024-12\n",
       "2  Los Angeles   2024-05-10                  28    2024-05\n",
       "3      Houston   2024-10-14                  29    2024-10\n",
       "4        Miami   2024-09-22                  21    2024-09"
      ]
     },
     "execution_count": 15,
     "metadata": {},
     "output_type": "execute_result"
    }
   ],
   "source": [
    "bookinggrowth['year_month'] = bookinggrowth['booking_date'].dt.to_period(\"M\")\n",
    "bookinggrowth.head()"
   ]
  },
  {
   "cell_type": "code",
   "execution_count": 16,
   "id": "741bd89c",
   "metadata": {},
   "outputs": [],
   "source": [
    "#aggregate over month-year\n",
    "monthly = bookinggrowth.groupby(['city','year_month']).sum().reset_index()"
   ]
  },
  {
   "cell_type": "code",
   "execution_count": 17,
   "id": "6124850b",
   "metadata": {},
   "outputs": [],
   "source": [
    "monthly = monthly.sort_values(['city','year_month'])"
   ]
  },
  {
   "cell_type": "code",
   "execution_count": null,
   "id": "d6230496",
   "metadata": {},
   "outputs": [],
   "source": []
  }
 ],
 "metadata": {
  "kernelspec": {
   "display_name": "Python 3 (ipykernel)",
   "language": "python",
   "name": "python3"
  },
  "language_info": {
   "codemirror_mode": {
    "name": "ipython",
    "version": 3
   },
   "file_extension": ".py",
   "mimetype": "text/x-python",
   "name": "python",
   "nbconvert_exporter": "python",
   "pygments_lexer": "ipython3",
   "version": "3.9.13"
  }
 },
 "nbformat": 4,
 "nbformat_minor": 5
}
